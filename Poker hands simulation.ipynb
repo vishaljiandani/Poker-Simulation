{
 "cells": [
  {
   "cell_type": "code",
   "execution_count": 1,
   "metadata": {},
   "outputs": [
    {
     "name": "stdout",
     "output_type": "stream",
     "text": [
      "{'royal': 1, 'stflush': 19, 'quad': 254, 'fullhouse': 1426, 'flush': 1968, 'straight': 3879, 'trip': 21208, 'twopair': 47470, 'pair': 422593, 'other': 501182}\n",
      "{'royal': 1, 'stflush': 19, 'quad': 254, 'fullhouse': 1426, 'flush': 1968, 'straight': 3879, 'trip': 21208, 'twopair': 47470, 'pair': 422593, 'other': 501182}\n",
      "{'royal': 1, 'stflush': 19, 'quad': 254, 'fullhouse': 1426, 'flush': 1968, 'straight': 3879, 'trip': 21208, 'twopair': 47470, 'pair': 422593, 'other': 501182}\n",
      "{'royal': 1, 'stflush': 19, 'quad': 254, 'fullhouse': 1426, 'flush': 1968, 'straight': 3879, 'trip': 21208, 'twopair': 47470, 'pair': 422593, 'other': 501182}\n",
      "{'royal': 1, 'stflush': 19, 'quad': 254, 'fullhouse': 1426, 'flush': 1968, 'straight': 3879, 'trip': 21208, 'twopair': 47470, 'pair': 422593, 'other': 501182}\n",
      "{'royal': 1, 'stflush': 19, 'quad': 254, 'fullhouse': 1426, 'flush': 1968, 'straight': 3879, 'trip': 21208, 'twopair': 47470, 'pair': 422593, 'other': 501182}\n",
      "{'royal': 1, 'stflush': 19, 'quad': 254, 'fullhouse': 1426, 'flush': 1968, 'straight': 3879, 'trip': 21208, 'twopair': 47470, 'pair': 422593, 'other': 501182}\n",
      "{'royal': 1, 'stflush': 19, 'quad': 254, 'fullhouse': 1426, 'flush': 1968, 'straight': 3879, 'trip': 21208, 'twopair': 47470, 'pair': 422593, 'other': 501182}\n",
      "48.6 s ± 3.45 s per loop (mean ± std. dev. of 7 runs, 1 loop each)\n"
     ]
    }
   ],
   "source": [
    "from itertools import product\n",
    "import random\n",
    "\n",
    "def get_hand_name(suits:dict,nums:dict):\n",
    "    suitvec =   ['\\u2660','\\u2665','\\u2663','\\u2666']\n",
    "    numbervec = ['A','2','3','4','5','6','7','8','9','10','J','Q','K','A']\n",
    "    straights = [set(numbervec[i:i+5]) for i in range(10)]\n",
    "    nvals = list(nums.values())\n",
    "    nvals.sort()\n",
    "    if set(nums.keys()) in straights and len(suits)==1:\n",
    "        if set(nums.keys()) == straights[-1]: return 'royal'\n",
    "        return 'stflush'\n",
    "    if nvals[-1] >= 4: return 'quad'\n",
    "    if nvals[-1] == 3 and nvals[-2] == 2: return 'fullhouse'\n",
    "    if len(suits)==1: return 'flush'\n",
    "    if set(nums.keys()) in straights: return 'straight'\n",
    "    if nvals[-1] >= 3: return 'trip'\n",
    "    if nvals[-1] >= 2 and nvals[-2] >= 2: return 'twopair'\n",
    "    if nvals[-1] >= 2: return 'pair'\n",
    "    return 'other'\n",
    "def get_suits_and_nums(hand):\n",
    "    suits = {}\n",
    "    nums = {}\n",
    "    for card in hand:\n",
    "        suit = card[0]\n",
    "        num = card[1:]\n",
    "        suits[suit] = 1+suits[suit] if suit in suits.keys() else 1\n",
    "        nums[num] = 1+nums[num] if num in nums.keys() else 1\n",
    "    return suits,nums\n",
    "def run_poker(nsim:int,seed:int):\n",
    "    suitvec = ['\\u2660','\\u2665','\\u2663','\\u2666']\n",
    "    numbervec = ['A','2','3','4','5','6','7','8','9','10','J','Q','K']\n",
    "    deck = [i+j for i,j in product(suitvec,numbervec)]\n",
    "    hands = {'royal':0,'stflush':0,'quad':0,'fullhouse':0,'flush':0,\\\n",
    "             'straight':0,'trip':0,'twopair':0,'pair':0,'other':0}\n",
    "    random.seed(seed)\n",
    "    for i in range(nsim):\n",
    "        random.shuffle(deck)\n",
    "        hand = deck[:5]\n",
    "        suits,nums = get_suits_and_nums(hand)\n",
    "        name = get_hand_name(suits,nums)\n",
    "        hands[name] += 1\n",
    "    return hands\n",
    "\n",
    "%timeit print(run_poker(int(1e6),0))"
   ]
  }
 ],
 "metadata": {
  "kernelspec": {
   "display_name": "Python 3",
   "language": "python",
   "name": "python3"
  },
  "language_info": {
   "codemirror_mode": {
    "name": "ipython",
    "version": 3
   },
   "file_extension": ".py",
   "mimetype": "text/x-python",
   "name": "python",
   "nbconvert_exporter": "python",
   "pygments_lexer": "ipython3",
   "version": "3.7.6"
  }
 },
 "nbformat": 4,
 "nbformat_minor": 4
}
